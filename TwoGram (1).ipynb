{
 "cells": [
  {
   "cell_type": "markdown",
   "metadata": {},
   "source": [
    "# English Fiction 2gram"
   ]
  },
  {
   "cell_type": "code",
   "execution_count": null,
   "metadata": {},
   "outputs": [],
   "source": [
    "import findspark\n",
    "findspark.init()\n",
    "from pyspark import SparkContext, SparkConf\n",
    "from pyspark.sql import SparkSession\n",
    "\n",
    "sc=SparkContext()\n",
    "spark = SparkSession.builder.getOrCreate()"
   ]
  },
  {
   "cell_type": "code",
   "execution_count": null,
   "metadata": {},
   "outputs": [],
   "source": [
    "# import text file\n",
    "ngram = spark.sparkContext.sequenceFile('s3://datasets.elasticmapreduce/ngrams/books/20090715/eng-fiction-all/2gram/data')"
   ]
  },
  {
   "cell_type": "code",
   "execution_count": null,
   "metadata": {},
   "outputs": [],
   "source": [
    "a = ngram.first()"
   ]
  },
  {
   "cell_type": "code",
   "execution_count": null,
   "metadata": {},
   "outputs": [],
   "source": [
    "type(a)"
   ]
  },
  {
   "cell_type": "code",
   "execution_count": null,
   "metadata": {},
   "outputs": [],
   "source": [
    "ngram.take(5)"
   ]
  },
  {
   "cell_type": "markdown",
   "metadata": {},
   "source": [
    "### Pre-processing"
   ]
  },
  {
   "cell_type": "code",
   "execution_count": 79,
   "metadata": {},
   "outputs": [],
   "source": [
    "import sys\n",
    "import os,datetime, re\n",
    "from pyspark.sql import Row\n",
    "from pyspark.sql.types import *"
   ]
  },
  {
   "cell_type": "code",
   "execution_count": 84,
   "metadata": {},
   "outputs": [],
   "source": [
    "def unpack_to_row(tp):\n",
    "    (num, line) = tp\n",
    "    string, y, n1, n2, n3 = re.split(r'[\\t]', line)\n",
    "    #return [num, string, int(y), int(n1), int(n2), int(n3)]\n",
    "    return Row(index=num, two_gram=string, \n",
    "               year=int(y), \n",
    "               match_count=int(n1), page_count=int(n2), volume_count=int(n3))\n",
    "               # year=datetime.datetime.strptime(y, '%Y')"
   ]
  },
  {
   "cell_type": "code",
   "execution_count": 76,
   "metadata": {},
   "outputs": [],
   "source": [
    "rdd = ngram.map(lambda ls: unpack_to_row(ls))"
   ]
  },
  {
   "cell_type": "code",
   "execution_count": 87,
   "metadata": {},
   "outputs": [
    {
     "data": {
      "text/plain": [
       "[Row(index=1, match_count=1, page_count=1, two_gram='! 00000', volume_count=1, year=1796),\n",
       " Row(index=2, match_count=1, page_count=1, two_gram='! 00000', volume_count=1, year=1832),\n",
       " Row(index=3, match_count=1, page_count=1, two_gram='! 00000', volume_count=1, year=1838),\n",
       " Row(index=4, match_count=1, page_count=1, two_gram='! 00000', volume_count=1, year=1840),\n",
       " Row(index=5, match_count=1, page_count=1, two_gram='! 00000', volume_count=1, year=1841)]"
      ]
     },
     "execution_count": 87,
     "metadata": {},
     "output_type": "execute_result"
    }
   ],
   "source": [
    "rdd.take(5)"
   ]
  },
  {
   "cell_type": "code",
   "execution_count": 85,
   "metadata": {},
   "outputs": [],
   "source": [
    "schema = StructType([\n",
    "    StructField('index', IntegerType(), True),\n",
    "    StructField('two_gram', StringType(), True),\n",
    "    StructField('year', IntegerType(), True),\n",
    "    StructField('match_count', IntegerType(), True),\n",
    "    StructField('page_count', IntegerType(), True),\n",
    "    StructField('volume_count', IntegerType(), True)\n",
    "])"
   ]
  },
  {
   "cell_type": "code",
   "execution_count": 86,
   "metadata": {},
   "outputs": [
    {
     "name": "stdout",
     "output_type": "stream",
     "text": [
      "StructType(List(StructField(index,IntegerType,true),StructField(two_gram,StringType,true),StructField(year,IntegerType,true),StructField(match_count,IntegerType,true),StructField(page_count,IntegerType,true),StructField(volume_count,IntegerType,true)))\n",
      "+-----+--------+----+-----------+----------+------------+\n",
      "|index|two_gram|year|match_count|page_count|volume_count|\n",
      "+-----+--------+----+-----------+----------+------------+\n",
      "|    1| ! 00000|1796|          1|         1|           1|\n",
      "|    2| ! 00000|1832|          1|         1|           1|\n",
      "|    3| ! 00000|1838|          1|         1|           1|\n",
      "|    4| ! 00000|1840|          1|         1|           1|\n",
      "|    5| ! 00000|1841|          1|         1|           1|\n",
      "|    6| ! 00000|1881|          1|         1|           1|\n",
      "|    7| ! 00000|1883|          1|         1|           1|\n",
      "|    8| ! 00000|1892|          2|         2|           2|\n",
      "|    9| ! 00000|1894|          1|         1|           1|\n",
      "|   10| ! 00000|1897|          1|         1|           1|\n",
      "|   11| ! 00000|1900|          2|         2|           2|\n",
      "|   12| ! 00000|1904|          1|         1|           1|\n",
      "|   13| ! 00000|1907|          1|         1|           1|\n",
      "|   14| ! 00000|1909|          1|         1|           1|\n",
      "|   15| ! 00000|1911|          1|         1|           1|\n",
      "|   16| ! 00000|1916|          1|         1|           1|\n",
      "|   17| ! 00000|1917|          1|         1|           1|\n",
      "|   18| ! 00000|1937|          1|         1|           1|\n",
      "|   19| ! 00000|1943|          1|         1|           1|\n",
      "|   20| ! 00000|1961|          1|         1|           1|\n",
      "+-----+--------+----+-----------+----------+------------+\n",
      "only showing top 20 rows\n",
      "\n"
     ]
    }
   ],
   "source": [
    "# Create data frame\n",
    "df = spark.createDataFrame(rdd, schema)\n",
    "print(df.schema)\n",
    "df.show()"
   ]
  },
  {
   "cell_type": "code",
   "execution_count": null,
   "metadata": {},
   "outputs": [],
   "source": []
  }
 ],
 "metadata": {
  "kernelspec": {
   "display_name": "Python 3",
   "language": "python",
   "name": "python3"
  },
  "language_info": {
   "codemirror_mode": {
    "name": "ipython",
    "version": 3
   },
   "file_extension": ".py",
   "mimetype": "text/x-python",
   "name": "python",
   "nbconvert_exporter": "python",
   "pygments_lexer": "ipython3",
   "version": "3.7.7"
  }
 },
 "nbformat": 4,
 "nbformat_minor": 4
}
