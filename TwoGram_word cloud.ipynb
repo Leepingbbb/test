{
 "cells": [
  {
   "cell_type": "markdown",
   "metadata": {},
   "source": [
    "# English Fiction 2gram"
   ]
  },
  {
   "cell_type": "code",
   "execution_count": 1,
   "metadata": {},
   "outputs": [],
   "source": [
    "import findspark\n",
    "findspark.init()\n",
    "from pyspark import SparkContext, SparkConf\n",
    "from pyspark.sql import SparkSession\n",
    "\n",
    "sc=SparkContext()\n",
    "spark = SparkSession.builder.getOrCreate()"
   ]
  },
  {
   "cell_type": "code",
   "execution_count": 2,
   "metadata": {},
   "outputs": [],
   "source": [
    "# import text file\n",
    "ngram = spark.sparkContext.sequenceFile('s3://datasets.elasticmapreduce/ngrams/books/20090715/eng-fiction-all/2gram/data')"
   ]
  },
  {
   "cell_type": "code",
   "execution_count": 3,
   "metadata": {},
   "outputs": [],
   "source": [
    "a = ngram.first()"
   ]
  },
  {
   "cell_type": "code",
   "execution_count": 4,
   "metadata": {},
   "outputs": [
    {
     "data": {
      "text/plain": [
       "tuple"
      ]
     },
     "execution_count": 4,
     "metadata": {},
     "output_type": "execute_result"
    }
   ],
   "source": [
    "type(a)"
   ]
  },
  {
   "cell_type": "code",
   "execution_count": 5,
   "metadata": {},
   "outputs": [
    {
     "data": {
      "text/plain": [
       "[(1, '! 00000\\t1796\\t1\\t1\\t1'),\n",
       " (2, '! 00000\\t1832\\t1\\t1\\t1'),\n",
       " (3, '! 00000\\t1838\\t1\\t1\\t1'),\n",
       " (4, '! 00000\\t1840\\t1\\t1\\t1'),\n",
       " (5, '! 00000\\t1841\\t1\\t1\\t1')]"
      ]
     },
     "execution_count": 5,
     "metadata": {},
     "output_type": "execute_result"
    }
   ],
   "source": [
    "ngram.take(5)"
   ]
  },
  {
   "cell_type": "markdown",
   "metadata": {},
   "source": [
    "### Pre-processing"
   ]
  },
  {
   "cell_type": "code",
   "execution_count": 6,
   "metadata": {},
   "outputs": [],
   "source": [
    "import sys\n",
    "import os,datetime, re\n",
    "from pyspark.sql import Row\n",
    "from pyspark.sql.types import *"
   ]
  },
  {
   "cell_type": "code",
   "execution_count": 7,
   "metadata": {},
   "outputs": [],
   "source": [
    "def unpack_to_row(tp):\n",
    "    (num, line) = tp\n",
    "    string, y, n1, n2, n3 = re.split(r'[\\t]', line)\n",
    "    #return [num, string, int(y), int(n1), int(n2), int(n3)]\n",
    "    return Row(index=num, two_gram=string, \n",
    "               year=int(y), \n",
    "               match_count=int(n1), page_count=int(n2), volume_count=int(n3))\n",
    "               # year=datetime.datetime.strptime(y, '%Y')"
   ]
  },
  {
   "cell_type": "code",
   "execution_count": 8,
   "metadata": {},
   "outputs": [],
   "source": [
    "rdd = ngram.map(lambda ls: unpack_to_row(ls))"
   ]
  },
  {
   "cell_type": "code",
   "execution_count": 9,
   "metadata": {},
   "outputs": [
    {
     "data": {
      "text/plain": [
       "[Row(index=1, match_count=1, page_count=1, two_gram='! 00000', volume_count=1, year=1796),\n",
       " Row(index=2, match_count=1, page_count=1, two_gram='! 00000', volume_count=1, year=1832),\n",
       " Row(index=3, match_count=1, page_count=1, two_gram='! 00000', volume_count=1, year=1838),\n",
       " Row(index=4, match_count=1, page_count=1, two_gram='! 00000', volume_count=1, year=1840),\n",
       " Row(index=5, match_count=1, page_count=1, two_gram='! 00000', volume_count=1, year=1841)]"
      ]
     },
     "execution_count": 9,
     "metadata": {},
     "output_type": "execute_result"
    }
   ],
   "source": [
    "rdd.take(5)"
   ]
  },
  {
   "cell_type": "code",
   "execution_count": 10,
   "metadata": {},
   "outputs": [],
   "source": [
    "schema = StructType([\n",
    "    StructField('index', IntegerType(), True),\n",
    "    StructField('two_gram', StringType(), True),\n",
    "    StructField('year', IntegerType(), True),\n",
    "    StructField('match_count', IntegerType(), True),\n",
    "    StructField('page_count', IntegerType(), True),\n",
    "    StructField('volume_count', IntegerType(), True)\n",
    "])"
   ]
  },
  {
   "cell_type": "code",
   "execution_count": 11,
   "metadata": {},
   "outputs": [
    {
     "name": "stdout",
     "output_type": "stream",
     "text": [
      "StructType(List(StructField(index,IntegerType,true),StructField(two_gram,StringType,true),StructField(year,IntegerType,true),StructField(match_count,IntegerType,true),StructField(page_count,IntegerType,true),StructField(volume_count,IntegerType,true)))\n",
      "+-----+--------+----+-----------+----------+------------+\n",
      "|index|two_gram|year|match_count|page_count|volume_count|\n",
      "+-----+--------+----+-----------+----------+------------+\n",
      "|    1| ! 00000|1796|          1|         1|           1|\n",
      "|    2| ! 00000|1832|          1|         1|           1|\n",
      "|    3| ! 00000|1838|          1|         1|           1|\n",
      "|    4| ! 00000|1840|          1|         1|           1|\n",
      "|    5| ! 00000|1841|          1|         1|           1|\n",
      "|    6| ! 00000|1881|          1|         1|           1|\n",
      "|    7| ! 00000|1883|          1|         1|           1|\n",
      "|    8| ! 00000|1892|          2|         2|           2|\n",
      "|    9| ! 00000|1894|          1|         1|           1|\n",
      "|   10| ! 00000|1897|          1|         1|           1|\n",
      "|   11| ! 00000|1900|          2|         2|           2|\n",
      "|   12| ! 00000|1904|          1|         1|           1|\n",
      "|   13| ! 00000|1907|          1|         1|           1|\n",
      "|   14| ! 00000|1909|          1|         1|           1|\n",
      "|   15| ! 00000|1911|          1|         1|           1|\n",
      "|   16| ! 00000|1916|          1|         1|           1|\n",
      "|   17| ! 00000|1917|          1|         1|           1|\n",
      "|   18| ! 00000|1937|          1|         1|           1|\n",
      "|   19| ! 00000|1943|          1|         1|           1|\n",
      "|   20| ! 00000|1961|          1|         1|           1|\n",
      "+-----+--------+----+-----------+----------+------------+\n",
      "only showing top 20 rows\n",
      "\n"
     ]
    }
   ],
   "source": [
    "# Create data frame\n",
    "df = spark.createDataFrame(rdd, schema)\n",
    "print(df.schema)\n",
    "df.show()"
   ]
  },
  {
   "cell_type": "code",
   "execution_count": null,
   "metadata": {},
   "outputs": [],
   "source": [
    "df_sql = df.createOrReplaceTempView('df_sql')\n",
    "df_sql = spark.sql(\"CACHE TABLE df_sql\")"
   ]
  },
  {
   "cell_type": "code",
   "execution_count": null,
   "metadata": {},
   "outputs": [],
   "source": [
    "df_count = spark.sql('select two_gram,sum(match_count) as count from df_sql\\\n",
    "                     group by two_gram\\\n",
    "                     order by count desc')\n",
    "df_count.show()"
   ]
  },
  {
   "cell_type": "code",
   "execution_count": null,
   "metadata": {},
   "outputs": [],
   "source": [
    "df_1000 = df_count.take(1000)\n",
    "df_1000[:10]"
   ]
  },
  {
   "cell_type": "code",
   "execution_count": null,
   "metadata": {},
   "outputs": [],
   "source": [
    "dicta = {}\n",
    "for i in df_1000:\n",
    "    dicta[i[0]]=i[1]    "
   ]
  },
  {
   "cell_type": "code",
   "execution_count": 53,
   "metadata": {
    "collapsed": true,
    "jupyter": {
     "outputs_hidden": true
    }
   },
   "outputs": [
    {
     "name": "stdout",
     "output_type": "stream",
     "text": [
      "Collecting wordcloud\n",
      "  Downloading wordcloud-1.7.0-cp37-cp37m-manylinux1_x86_64.whl (364 kB)\n",
      "\u001b[K     |████████████████████████████████| 364 kB 17.9 MB/s eta 0:00:01\n",
      "\u001b[?25hRequirement already satisfied: numpy>=1.6.1 in /home/hadoop/miniconda/lib/python3.7/site-packages (from wordcloud) (1.18.5)\n",
      "Requirement already satisfied: matplotlib in /home/hadoop/miniconda/lib/python3.7/site-packages (from wordcloud) (3.2.2)\n",
      "Requirement already satisfied: pillow in /home/hadoop/miniconda/lib/python3.7/site-packages (from wordcloud) (7.1.2)\n",
      "Requirement already satisfied: kiwisolver>=1.0.1 in /home/hadoop/miniconda/lib/python3.7/site-packages (from matplotlib->wordcloud) (1.2.0)\n",
      "Requirement already satisfied: cycler>=0.10 in /home/hadoop/miniconda/lib/python3.7/site-packages (from matplotlib->wordcloud) (0.10.0)\n",
      "Requirement already satisfied: pyparsing!=2.0.4,!=2.1.2,!=2.1.6,>=2.0.1 in /home/hadoop/miniconda/lib/python3.7/site-packages (from matplotlib->wordcloud) (2.4.7)\n",
      "Requirement already satisfied: python-dateutil>=2.1 in /home/hadoop/miniconda/lib/python3.7/site-packages (from matplotlib->wordcloud) (2.8.1)\n",
      "Requirement already satisfied: six in /home/hadoop/miniconda/lib/python3.7/site-packages (from cycler>=0.10->matplotlib->wordcloud) (1.15.0)\n",
      "Installing collected packages: wordcloud\n",
      "Successfully installed wordcloud-1.7.0\n"
     ]
    }
   ],
   "source": [
    "!pip3 install wordcloud"
   ]
  },
  {
   "cell_type": "code",
   "execution_count": null,
   "metadata": {},
   "outputs": [],
   "source": [
    "from wordcloud import WordCloud\n",
    "import matplotlib.pyplot as plt\n",
    "from PIL import Image\n",
    "import numpy as np"
   ]
  },
  {
   "cell_type": "code",
   "execution_count": null,
   "metadata": {},
   "outputs": [],
   "source": [
    "image = Image.open('heart.jpg')\n",
    "graph = np.array(image)\n",
    "wc = WordCloud(background_color='white',mask=graph)\n",
    "wc.generate_from_frequencies(dicta)\n",
    "#wordcloud = WordCloud.fit_words(dicta)\n",
    "plt.imshow(wc)\n",
    "plt.axis('off')\n",
    "plt.show()"
   ]
  },
  {
   "cell_type": "code",
   "execution_count": null,
   "metadata": {},
   "outputs": [],
   "source": []
  }
 ],
 "metadata": {
  "kernelspec": {
   "display_name": "Python 3",
   "language": "python",
   "name": "python3"
  },
  "language_info": {
   "codemirror_mode": {
    "name": "ipython",
    "version": 3
   },
   "file_extension": ".py",
   "mimetype": "text/x-python",
   "name": "python",
   "nbconvert_exporter": "python",
   "pygments_lexer": "ipython3",
   "version": "3.7.7"
  }
 },
 "nbformat": 4,
 "nbformat_minor": 4
}
